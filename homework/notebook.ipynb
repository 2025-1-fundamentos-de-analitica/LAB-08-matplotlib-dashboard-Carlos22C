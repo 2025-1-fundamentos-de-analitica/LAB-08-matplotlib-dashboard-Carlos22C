{
 "cells": [
  {
   "cell_type": "code",
   "execution_count": 2,
   "id": "a5d55860",
   "metadata": {},
   "outputs": [],
   "source": [
    "import matplotlib.pyplot as plt\n",
    "import pandas as pd"
   ]
  },
  {
   "cell_type": "code",
   "execution_count": 3,
   "id": "0c9410e4",
   "metadata": {},
   "outputs": [],
   "source": [
    "def leer_datos_envios():\n",
    "    \"\"\"\n",
    "    Lee el archivo CSV con los datos de envío y retorna un DataFrame.\n",
    "    \"\"\"\n",
    "    ruta = '../files/input/shipping-data.csv'\n",
    "    return pd.read_csv(ruta)\n"
   ]
  },
  {
   "cell_type": "code",
   "execution_count": 4,
   "id": "95e8e59e",
   "metadata": {},
   "outputs": [],
   "source": [
    "def visualizar_envios_por_bodega(df):\n",
    "    \"\"\"\n",
    "    Genera un gráfico de barras que muestra la cantidad de envíos por bloque de almacén.\n",
    "    \"\"\"\n",
    "    datos_copia = df.copy()\n",
    "    conteos = datos_copia['Warehouse_block'].value_counts()\n",
    "\n",
    "    plt.figure()\n",
    "    conteos.plot.bar(\n",
    "        title='Shipping per Warehouse',\n",
    "        xlabel='Warehouse block',\n",
    "        ylabel='Record Count',\n",
    "        color='tab:blue',\n",
    "        fontsize=8\n",
    "    )\n",
    "\n",
    "    ax = plt.gca()\n",
    "    ax.spines['top'].set_visible(False)\n",
    "    ax.spines['right'].set_visible(False)\n",
    "\n",
    "    plt.savefig('shipping_per_warehouse.png')\n"
   ]
  },
  {
   "cell_type": "code",
   "execution_count": 5,
   "id": "81a8cf31",
   "metadata": {},
   "outputs": [],
   "source": [
    "def visualizar_modos_envio(df):\n",
    "    datos_copia = df.copy()\n",
    "    plt.figure()\n",
    "    datos_copia['Mode_of_Shipment'].value_counts().plot.pie(\n",
    "        title='Mode of Shipment',\n",
    "        ylabel='',\n",
    "        wedgeprops={'width': 0.35},\n",
    "        colors=['tab:blue', 'tab:orange', 'tab:green']\n",
    "    )\n",
    "    plt.savefig('mode_of_shipment.png')\n"
   ]
  },
  {
   "cell_type": "code",
   "execution_count": 6,
   "id": "b55ef2b6",
   "metadata": {},
   "outputs": [],
   "source": [
    "def visualizar_promedios_calificacion(df):\n",
    "    datos = df[['Mode_of_Shipment', 'Customer_rating']].groupby('Mode_of_Shipment').describe()\n",
    "    datos.columns = datos.columns.droplevel()\n",
    "    resumen = datos[['mean', 'min', 'max']]\n",
    "\n",
    "    plt.figure()\n",
    "    plt.barh(\n",
    "        y=resumen.index,\n",
    "        width=resumen['max'] - 1,\n",
    "        left=resumen['min'],\n",
    "        height=0.9,\n",
    "        color='lightgray',\n",
    "        alpha=0.8\n",
    "    )\n",
    "\n",
    "    colores = ['tab:green' if x >= 3.0 else 'tab:orange' for x in resumen['mean']]\n",
    "    plt.barh(\n",
    "        y=resumen.index,\n",
    "        width=resumen['mean'] - 1,\n",
    "        left=resumen['min'],\n",
    "        height=0.5,\n",
    "        color=colores,\n",
    "        alpha=1\n",
    "    )\n",
    "\n",
    "    ax = plt.gca()\n",
    "    ax.set_title('Average Customer Rating')\n",
    "    ax.spines['left'].set_color('gray')\n",
    "    ax.spines['bottom'].set_color('gray')\n",
    "    ax.spines['top'].set_visible(False)\n",
    "    ax.spines['right'].set_visible(False)\n",
    "\n",
    "    plt.savefig('average_customer_rating.png')\n"
   ]
  },
  {
   "cell_type": "code",
   "execution_count": 7,
   "id": "ec65847b",
   "metadata": {},
   "outputs": [],
   "source": [
    "def visualizar_distribucion_pesos(df):\n",
    "    plt.figure()\n",
    "    df['Weight_in_gms'].plot.hist(\n",
    "        title='Shipped Weight Distribution',\n",
    "        color='tab:orange',\n",
    "        edgecolor='white'\n",
    "    )\n",
    "    ax = plt.gca()\n",
    "    ax.spines['top'].set_visible(False)\n",
    "    ax.spines['right'].set_visible(False)\n",
    "    plt.savefig('weight_distribution.png')\n"
   ]
  },
  {
   "cell_type": "code",
   "execution_count": 8,
   "id": "1ff2e053",
   "metadata": {},
   "outputs": [],
   "source": [
    "def visualizar_distribucion_pesos(df):\n",
    "    plt.figure()\n",
    "    df['Weight_in_gms'].plot.hist(\n",
    "        title='Shipped Weight Distribution',\n",
    "        color='tab:orange',\n",
    "        edgecolor='white'\n",
    "    )\n",
    "    ax = plt.gca()\n",
    "    ax.spines['top'].set_visible(False)\n",
    "    ax.spines['right'].set_visible(False)\n",
    "    plt.savefig('weight_distribution.png')\n"
   ]
  }
 ],
 "metadata": {
  "kernelspec": {
   "display_name": ".venv",
   "language": "python",
   "name": "python3"
  },
  "language_info": {
   "codemirror_mode": {
    "name": "ipython",
    "version": 3
   },
   "file_extension": ".py",
   "mimetype": "text/x-python",
   "name": "python",
   "nbconvert_exporter": "python",
   "pygments_lexer": "ipython3",
   "version": "3.9.13"
  }
 },
 "nbformat": 4,
 "nbformat_minor": 5
}
